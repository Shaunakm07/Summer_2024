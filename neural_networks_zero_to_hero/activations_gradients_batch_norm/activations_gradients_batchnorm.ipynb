{
 "cells": [
  {
   "attachments": {},
   "cell_type": "markdown",
   "metadata": {},
   "source": [
    "<h1>Activations gradients and batch norm</h1>\n",
    "\n",
    "We dive deeper into some theoretical components important in building important neural networks"
   ]
  },
  {
   "attachments": {},
   "cell_type": "markdown",
   "metadata": {},
   "source": [
    "We first start by building the boiler plate code present in the mlp section "
   ]
  },
  {
   "cell_type": "code",
   "execution_count": null,
   "metadata": {},
   "outputs": [],
   "source": [
    "import torch\n",
    "import torch.nn.functional as F\n",
    "import numpy as np \n",
    "import matplotlib.pyplot as plt"
   ]
  },
  {
   "cell_type": "code",
   "execution_count": null,
   "metadata": {},
   "outputs": [],
   "source": [
    "words = open(\"names.txt\").read().splitlines()\n",
    "char_list = sorted(list(set(\"\".join(words))))\n",
    "stoi = {s:i+1 for i,s in enumerate(char_list)}\n",
    "stoi[\".\"] = 0\n",
    "itos = {i:s for s,i in stoi.items()}"
   ]
  },
  {
   "cell_type": "code",
   "execution_count": null,
   "metadata": {},
   "outputs": [],
   "source": [
    "import random \n",
    "random.seed(42)\n",
    "random.shuffle(words)"
   ]
  },
  {
   "cell_type": "code",
   "execution_count": null,
   "metadata": {},
   "outputs": [],
   "source": [
    "block_size = 3\n",
    "X, Y = [], []\n",
    "for w in words:\n",
    "    context = [0] * block_size\n",
    "    chars = w + \".\" \n",
    "    for c in chars:\n",
    "        X.append(context)\n",
    "        Y.append(stoi[c])\n",
    "        context = context[1:] + [stoi[c]]\n",
    "\n",
    "X = torch.tensor(X)\n",
    "Y = torch.tensor(Y)"
   ]
  },
  {
   "cell_type": "code",
   "execution_count": null,
   "metadata": {},
   "outputs": [],
   "source": [
    "n1 = int(len(X) * 0.8)\n",
    "n2 = int(len(X) * 0.9)\n",
    "X_train = X[:n1]\n",
    "Y_train = Y[:n1]\n",
    "X_dev = X[n1:n2]\n",
    "Y_dev = Y[n1:n2]\n",
    "X_test = X[n2:]\n",
    "Y_test = Y[n2:]\n"
   ]
  },
  {
   "cell_type": "code",
   "execution_count": 45,
   "metadata": {},
   "outputs": [],
   "source": [
    "embeds = 10\n",
    "n_hidden = 200\n",
    "\n",
    "vocab_size = len(char_list) + 1\n",
    "g = torch.Generator().manual_seed(2147483647)\n",
    "C = torch.randn((vocab_size, embeds), generator=g)\n",
    "W1 = torch.randn((embeds * block_size, n_hidden), generator=g)\n",
    "b1 = torch.randn((n_hidden), generator=g)\n",
    "W2 = torch.randn((n_hidden, vocab_size), generator=g)\n",
    "b2 = torch.randn(vocab_size, generator=g) \n",
    "\n",
    "parameters = [C, W1, b1, W2, b2]\n",
    "\n",
    "for p in parameters:\n",
    "    p.requires_grad = True"
   ]
  },
  {
   "cell_type": "code",
   "execution_count": 72,
   "metadata": {},
   "outputs": [
    {
     "name": "stdout",
     "output_type": "stream",
     "text": [
      "0 tensor(3.6670, grad_fn=<NllLossBackward0>)\n",
      "10000 tensor(2.2587, grad_fn=<NllLossBackward0>)\n",
      "20000 tensor(2.1415, grad_fn=<NllLossBackward0>)\n",
      "30000 tensor(2.5828, grad_fn=<NllLossBackward0>)\n",
      "40000 tensor(2.3775, grad_fn=<NllLossBackward0>)\n",
      "50000 tensor(2.2354, grad_fn=<NllLossBackward0>)\n",
      "60000 tensor(2.2255, grad_fn=<NllLossBackward0>)\n",
      "70000 tensor(1.9250, grad_fn=<NllLossBackward0>)\n",
      "80000 tensor(1.9362, grad_fn=<NllLossBackward0>)\n",
      "90000 tensor(1.7791, grad_fn=<NllLossBackward0>)\n",
      "100000 tensor(2.2722, grad_fn=<NllLossBackward0>)\n",
      "110000 tensor(1.9613, grad_fn=<NllLossBackward0>)\n",
      "120000 tensor(2.2257, grad_fn=<NllLossBackward0>)\n",
      "130000 tensor(2.5010, grad_fn=<NllLossBackward0>)\n",
      "140000 tensor(1.9570, grad_fn=<NllLossBackward0>)\n",
      "150000 tensor(2.1880, grad_fn=<NllLossBackward0>)\n",
      "160000 tensor(2.1449, grad_fn=<NllLossBackward0>)\n",
      "170000 tensor(1.8418, grad_fn=<NllLossBackward0>)\n",
      "180000 tensor(2.3930, grad_fn=<NllLossBackward0>)\n",
      "190000 tensor(2.1671, grad_fn=<NllLossBackward0>)\n"
     ]
    }
   ],
   "source": [
    "steps = 200000\n",
    "batch_size = 32\n",
    "losses = []\n",
    "\n",
    "for i in range(steps):\n",
    "    ix = torch.randint(0, len(X_train), (32,), generator=g)\n",
    "    Xb, Yb = X_train[ix], Y_train[ix]\n",
    "\n",
    "    emb = C[Xb].view(-1, embeds * block_size)\n",
    "    h = torch.tanh(emb @ W1 + b1)\n",
    "    logits = h @ W2 + b2\n",
    "    loss = F.cross_entropy(logits, Yb)\n",
    "\n",
    "    for p in parameters:\n",
    "        p.grad = None\n",
    "    loss.backward()\n",
    "\n",
    "    lr = 0.1 if i < 100000 else 0.01\n",
    "    for p in parameters:\n",
    "        p.data += p.grad * -lr\n",
    "\n",
    "    if i % 10000 == 0:\n",
    "        print(i, loss)\n",
    "    losses.append(loss)"
   ]
  },
  {
   "cell_type": "code",
   "execution_count": 47,
   "metadata": {},
   "outputs": [
    {
     "data": {
      "text/plain": [
       "[<matplotlib.lines.Line2D at 0x2a0344e80>]"
      ]
     },
     "execution_count": 47,
     "metadata": {},
     "output_type": "execute_result"
    },
    {
     "data": {
      "image/png": "[encoded data removed]",
      "text/plain": [
       "<Figure size 640x480 with 1 Axes>"
      ]
     },
     "metadata": {},
     "output_type": "display_data"
    }
   ],
   "source": [
    "plt.plot([loss.item() for loss in losses])"
   ]
  },
  {
   "cell_type": "code",
   "execution_count": 55,
   "metadata": {},
   "outputs": [
    {
     "name": "stdout",
     "output_type": "stream",
     "text": [
      "zutorah\n",
      "torie\n",
      "kylo\n",
      "edianel\n",
      "addaline\n",
      "oarhi\n",
      "kashaa\n",
      "aiven\n",
      "lenn\n",
      "markemmin\n",
      "alepais\n",
      "nath\n",
      "adalki\n",
      "mos\n",
      "hommer\n",
      "jenotaiceanne\n",
      "ahalaydella\n",
      "jama\n",
      "aleigan\n",
      "aeverlyn\n"
     ]
    }
   ],
   "source": [
    "for i in range(20):\n",
    "    out = []\n",
    "    context = [0] * block_size\n",
    "    while True:\n",
    "        emb = C[torch.tensor(context)].view(-1, embeds * block_size)\n",
    "        h = torch.tanh(emb @ W1 + b1)\n",
    "        logits = h @ W2 + b2\n",
    "        prob = F.softmax(logits, dim=1)\n",
    "        ix = torch.multinomial(prob, num_samples=1).item()\n",
    "        if ix == 0:\n",
    "            break \n",
    "        out.append(itos[ix])\n",
    "        context = context[1:] + [ix]\n",
    "    print(\"\".join(out))"
   ]
  },
  {
   "attachments": {},
   "cell_type": "markdown",
   "metadata": {},
   "source": [
    "We can tell that the network is not initialised right as the starting loss is way too high. We should effect the result to be -log(1/27) = 3.29"
   ]
  },
  {
   "cell_type": "code",
   "execution_count": 64,
   "metadata": {},
   "outputs": [
    {
     "name": "stderr",
     "output_type": "stream",
     "text": [
      "/var/folders/hm/kbbhmh2175x3_lkywgvsf_4w0000gn/T/ipykernel_28399/2405175995.py:2: UserWarning: Implicit dimension choice for softmax has been deprecated. Change the call to include dim=X as an argument.\n",
      "  F.softmax(logits)\n"
     ]
    },
    {
     "data": {
      "text/plain": [
       "tensor([0.2500, 0.2500, 0.2500, 0.2500])"
      ]
     },
     "execution_count": 64,
     "metadata": {},
     "output_type": "execute_result"
    }
   ],
   "source": [
    "logits = torch.zeros(4)\n",
    "F.softmax(logits)"
   ]
  },
  {
   "attachments": {},
   "cell_type": "markdown",
   "metadata": {},
   "source": [
    "A low initialisation of the weights in the final layer will make the logits almost uniform leading to a better loss that is closer to the expected result of 3.29. We thus multiply the inital weights by a scaling factor to achieve so. It is not 0 to allow for some entropy "
   ]
  },
  {
   "cell_type": "code",
   "execution_count": 70,
   "metadata": {},
   "outputs": [],
   "source": [
    "g = torch.Generator().manual_seed(2147483647)\n",
    "C = torch.randn((vocab_size, embeds), generator=g)\n",
    "W1 = torch.randn((embeds * block_size, n_hidden), generator=g)\n",
    "b1 = torch.randn((n_hidden), generator=g)\n",
    "W2 = torch.randn((n_hidden, vocab_size), generator=g) * 0.001\n",
    "b2 = torch.randn(vocab_size, generator=g)\n",
    "\n",
    "parameters = [C, W1, b1, W2, b2]\n",
    "\n",
    "for p in parameters:\n",
    "    p.requires_grad = True"
   ]
  },
  {
   "cell_type": "code",
   "execution_count": 160,
   "metadata": {},
   "outputs": [
    {
     "name": "stdout",
     "output_type": "stream",
     "text": [
      "tensor(3.6505, grad_fn=<NllLossBackward0>)\n"
     ]
    }
   ],
   "source": [
    "ix = torch.randint(0, len(X_train), (32,), generator=g)\n",
    "Xb, Yb = X_train[ix], Y_train[ix]\n",
    "\n",
    "emb = C[Xb].view(-1, embeds * block_size)\n",
    "h = torch.tanh(emb @ W1 + b1)\n",
    "logits = h @ W2 + b2\n",
    "loss = F.cross_entropy(logits, Yb)\n",
    "print(loss)"
   ]
  },
  {
   "attachments": {},
   "cell_type": "markdown",
   "metadata": {},
   "source": [
    "The Tanh function squashes the values. We can observe the range of squashed values by plotting them. Not that there are 2 extremes. Most of the values are either -1 or 1 with no in between "
   ]
  },
  {
   "cell_type": "code",
   "execution_count": 161,
   "metadata": {},
   "outputs": [
    {
     "data": {
      "text/plain": [
       "(array([708., 288., 198., 154., 139., 133., 105., 102.,  97.,  77., 104.,\n",
       "         85.,  82.,  94.,  80.,  50.,  71.,  59.,  87.,  69.,  56.,  53.,\n",
       "         55.,  58.,  72.,  52.,  66.,  54.,  65.,  73.,  58.,  57.,  59.,\n",
       "         77.,  70.,  68.,  75.,  81.,  67.,  88.,  90., 107., 107., 137.,\n",
       "        128., 130., 187., 234., 311., 883.]),\n",
       " array([-9.99994993e-01, -9.59995536e-01, -9.19996078e-01, -8.79996620e-01,\n",
       "        -8.39997163e-01, -7.99997705e-01, -7.59998248e-01, -7.19998790e-01,\n",
       "        -6.79999332e-01, -6.39999875e-01, -6.00000417e-01, -5.60000960e-01,\n",
       "        -5.20001502e-01, -4.80002044e-01, -4.40002587e-01, -4.00003129e-01,\n",
       "        -3.60003672e-01, -3.20004214e-01, -2.80004756e-01, -2.40005299e-01,\n",
       "        -2.00005841e-01, -1.60006384e-01, -1.20006926e-01, -8.00074685e-02,\n",
       "        -4.00080109e-02, -8.55326653e-06,  3.99909043e-02,  7.99903619e-02,\n",
       "         1.19989820e-01,  1.59989277e-01,  1.99988735e-01,  2.39988192e-01,\n",
       "         2.79987650e-01,  3.19987108e-01,  3.59986565e-01,  3.99986023e-01,\n",
       "         4.39985480e-01,  4.79984938e-01,  5.19984396e-01,  5.59983853e-01,\n",
       "         5.99983311e-01,  6.39982768e-01,  6.79982226e-01,  7.19981683e-01,\n",
       "         7.59981141e-01,  7.99980599e-01,  8.39980056e-01,  8.79979514e-01,\n",
       "         9.19978971e-01,  9.59978429e-01,  9.99977887e-01]),\n",
       " <BarContainer object of 50 artists>)"
      ]
     },
     "execution_count": 161,
     "metadata": {},
     "output_type": "execute_result"
    },
    {
     "data": {
      "image/png": "[encoded data removed]",
      "text/plain": [
       "<Figure size 640x480 with 1 Axes>"
      ]
     },
     "metadata": {},
     "output_type": "display_data"
    }
   ],
   "source": [
    "plt.hist(h.view(-1).tolist(), 50)"
   ]
  },
  {
   "attachments": {},
   "cell_type": "markdown",
   "metadata": {},
   "source": [
    "This is a problem as the local derivative of a tan h function is 1 - tanh^2. If tanh is 1 or -1 the local derivative is 0 which kills the back propagation process at that layer"
   ]
  },
  {
   "attachments": {},
   "cell_type": "markdown",
   "metadata": {},
   "source": [
    "We can plot the neurons that result in a tanh output of -1 or 1 to visualise the population of dead neurons. White indicates dead "
   ]
  },
  {
   "cell_type": "code",
   "execution_count": 153,
   "metadata": {},
   "outputs": [
    {
     "data": {
      "text/plain": [
       "<matplotlib.image.AxesImage at 0x300848040>"
      ]
     },
     "execution_count": 153,
     "metadata": {},
     "output_type": "execute_result"
    },
    {
     "data": {
      "image/png": "[encoded data removed]",
      "text/plain": [
       "<Figure size 2000x2000 with 1 Axes>"
      ]
     },
     "metadata": {},
     "output_type": "display_data"
    }
   ],
   "source": [
    "plt.figure(figsize=(20,20))\n",
    "plt.imshow(h.abs() > 0.99, cmap=\"gray\")"
   ]
  },
  {
   "cell_type": "markdown",
   "metadata": {},
   "source": [
    "By squashing the range weights we can reduce the pre activation of the tanh neurons which in result should reduce the amount of dead neurons. "
   ]
  },
  {
   "cell_type": "code",
   "execution_count": 181,
   "metadata": {},
   "outputs": [],
   "source": [
    "g = torch.Generator().manual_seed(2147483647)\n",
    "C = torch.randn((vocab_size, embeds), generator=g)\n",
    "W1 = torch.randn((embeds * block_size, n_hidden), generator=g) * (5/3) / ((embeds * block_size) ** 0.5)\n",
    "b1 = torch.randn((n_hidden), generator=g) * 0.001\n",
    "W2 = torch.randn((n_hidden, vocab_size), generator=g) * 0.01\n",
    "b2 = torch.randn(vocab_size, generator=g)\n",
    "\n",
    "gain = torch.ones((1, n_hidden))\n",
    "bias = torch.zeros((1, n_hidden))\n",
    "\n",
    "running_mean = torch.zeros((1, n_hidden))\n",
    "running_deviation = torch.zeros((1, n_hidden))\n",
    "\n",
    "parameters = [C, W1, b1, W2, b2, gain, bias]\n",
    "\n",
    "for p in parameters:\n",
    "    p.requires_grad = True"
   ]
  },
  {
   "attachments": {},
   "cell_type": "markdown",
   "metadata": {},
   "source": [
    "batch normalisation just normalises all states to be normal gausians. You do this by substracting the mean and dividing by variance at every individual neuron. \n",
    "\n",
    "Another set of weights and biases are given allowing the model to adjust the distribution throughout training when needed via back prop\n",
    "\n",
    "The final key idea is that you need the mean and standard deviation for inference. You obtain these by calculating them accross the whole training dataset "
   ]
  },
  {
   "cell_type": "code",
   "execution_count": 185,
   "metadata": {},
   "outputs": [
    {
     "name": "stdout",
     "output_type": "stream",
     "text": [
      "tensor(2.1777, grad_fn=<NllLossBackward0>)\n"
     ]
    }
   ],
   "source": [
    "Xb, Yb = X_dev, Y_dev\n",
    "\n",
    "emb = C[Xb].view(-1, embeds * block_size)\n",
    "pre_act = emb @ W1 + b1\n",
    "\n",
    "\n",
    "pre_act = (pre_act - running_mean) / running_deviation\n",
    "h = torch.tanh(gain * pre_act + bias)\n",
    "logits = h @ W2 + b2\n",
    "loss = F.cross_entropy(logits, Yb)\n",
    "print(loss)"
   ]
  },
  {
   "cell_type": "code",
   "execution_count": 183,
   "metadata": {},
   "outputs": [
    {
     "name": "stdout",
     "output_type": "stream",
     "text": [
      "0 tensor(3.6479, grad_fn=<NllLossBackward0>)\n",
      "10000 tensor(1.9512, grad_fn=<NllLossBackward0>)\n",
      "20000 tensor(2.3054, grad_fn=<NllLossBackward0>)\n",
      "30000 tensor(1.9457, grad_fn=<NllLossBackward0>)\n",
      "40000 tensor(2.1548, grad_fn=<NllLossBackward0>)\n",
      "50000 tensor(2.4119, grad_fn=<NllLossBackward0>)\n",
      "60000 tensor(2.6695, grad_fn=<NllLossBackward0>)\n",
      "70000 tensor(2.1347, grad_fn=<NllLossBackward0>)\n",
      "80000 tensor(2.3307, grad_fn=<NllLossBackward0>)\n",
      "90000 tensor(2.2744, grad_fn=<NllLossBackward0>)\n",
      "100000 tensor(2.4426, grad_fn=<NllLossBackward0>)\n",
      "110000 tensor(2.4171, grad_fn=<NllLossBackward0>)\n",
      "120000 tensor(2.1882, grad_fn=<NllLossBackward0>)\n",
      "130000 tensor(2.5546, grad_fn=<NllLossBackward0>)\n",
      "140000 tensor(2.2295, grad_fn=<NllLossBackward0>)\n",
      "150000 tensor(1.7206, grad_fn=<NllLossBackward0>)\n",
      "160000 tensor(2.2005, grad_fn=<NllLossBackward0>)\n",
      "170000 tensor(2.0028, grad_fn=<NllLossBackward0>)\n",
      "180000 tensor(1.9408, grad_fn=<NllLossBackward0>)\n",
      "190000 tensor(2.5291, grad_fn=<NllLossBackward0>)\n"
     ]
    }
   ],
   "source": [
    "steps = 200000\n",
    "batch_size = 32\n",
    "losses = []\n",
    "\n",
    "for i in range(steps):\n",
    "    ix = torch.randint(0, len(X_train), (32,), generator=g)\n",
    "    Xb, Yb = X_train[ix], Y_train[ix]\n",
    "    emb = C[Xb].view(-1, embeds * block_size)\n",
    "    pre_act = emb @ W1 + b1\n",
    "\n",
    "    mean = pre_act.mean(0, keepdim=True)\n",
    "    variance = pre_act.std(0, keepdim=True)\n",
    "\n",
    "    pre_act = (pre_act - mean) / variance\n",
    "    h = torch.tanh(gain * pre_act + bias)\n",
    "    logits = h @ W2 + b2\n",
    "    loss = F.cross_entropy(logits, Yb)\n",
    "\n",
    "    for p in parameters:\n",
    "        p.grad = None\n",
    "    loss.backward()\n",
    "\n",
    "    lr = 0.1 if i < 100000 else 0.01\n",
    "    for p in parameters:\n",
    "        p.data += p.grad * -lr\n",
    "\n",
    "    running_mean = (0.999 * running_mean) + (0.001 * mean)\n",
    "    running_deviation = (0.999 * running_deviation) +(0.001 * variance)\n",
    "\n",
    "    if i % 10000 == 0:\n",
    "        print(i, loss)\n",
    "    losses.append(loss)"
   ]
  },
  {
   "cell_type": "code",
   "execution_count": null,
   "metadata": {},
   "outputs": [],
   "source": []
  }
 ],
 "metadata": {
  "kernelspec": {
   "display_name": "d2l",
   "language": "python",
   "name": "python3"
  },
  "language_info": {
   "codemirror_mode": {
    "name": "ipython",
    "version": 3
   },
   "file_extension": ".py",
   "mimetype": "text/x-python",
   "name": "python",
   "nbconvert_exporter": "python",
   "pygments_lexer": "ipython3",
   "version": "3.10.13"
  },
  "orig_nbformat": 4
 },
 "nbformat": 4,
 "nbformat_minor": 2
}
